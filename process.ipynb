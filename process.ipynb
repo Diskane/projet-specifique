{
 "cells": [
  {
   "cell_type": "code",
   "execution_count": 1,
   "metadata": {},
   "outputs": [],
   "source": [
    "import pandas as pd\n",
    "import numpy as np\n",
    "import ast"
   ]
  },
  {
   "cell_type": "code",
   "execution_count": 2,
   "metadata": {},
   "outputs": [],
   "source": [
    "\n",
    "from scipy.stats import randint\n",
    "import seaborn as sns # used for plot interactive graph. \n",
    "import matplotlib.pyplot as plt\n",
    "import seaborn as sns\n",
    "from io import StringIO\n",
    "from sklearn.feature_extraction.text import TfidfVectorizer\n",
    "from sklearn.feature_selection import chi2\n",
    "from IPython.display import display\n",
    "from sklearn.model_selection import train_test_split\n",
    "from sklearn.feature_extraction.text import TfidfTransformer\n",
    "from sklearn.naive_bayes import MultinomialNB\n",
    "from sklearn.linear_model import LogisticRegression\n",
    "from sklearn.ensemble import RandomForestClassifier\n",
    "from sklearn.svm import LinearSVC\n",
    "from sklearn.model_selection import cross_val_score\n",
    "from sklearn.metrics import confusion_matrix\n",
    "from sklearn import metrics\n",
    "#import warnings\n",
    "#warnings.filterwarnings(\"ignore\", category=FutureWarning)\n"
   ]
  },
  {
   "cell_type": "code",
   "execution_count": 3,
   "metadata": {},
   "outputs": [],
   "source": [
    "train_input=\"dataset/topic/train.csv\"\n",
    "test_input=\"dataset/topic/valid.csv\"\n",
    "topic_input=\"dataset/topic/topics.txt\"\n",
    "voc_input=\"dataset/topic/vocabulary.txt\""
   ]
  },
  {
   "cell_type": "code",
   "execution_count": 4,
   "metadata": {},
   "outputs": [],
   "source": [
    "def load_class():\n",
    "    CLASSES = set()\n",
    "    with open(topic_input, 'r', encoding=\"utf-8\") as f:\n",
    "        for line in f:\n",
    "            CLASSES.add(str(line[:-1]))\n",
    "    return list(CLASSES)\n",
    "\n",
    "CLASSES = load_class()"
   ]
  },
  {
   "cell_type": "code",
   "execution_count": 5,
   "metadata": {},
   "outputs": [],
   "source": [
    "def load_voc():\n",
    "    with open(voc_input, \"r\", encoding=\"utf-8\") as file:\n",
    "        voc = ast.literal_eval(file.readline())\n",
    "    return voc\n"
   ]
  },
  {
   "cell_type": "code",
   "execution_count": 6,
   "metadata": {},
   "outputs": [],
   "source": [
    "def topic_to_string(nb):\n",
    "    return CLASSES[nb]"
   ]
  },
  {
   "cell_type": "code",
   "execution_count": 7,
   "metadata": {},
   "outputs": [],
   "source": [
    "voc=load_voc()\n",
    "voc = dict(map(reversed, voc.items()))\n",
    "\n",
    "def text_to_string(text):\n",
    "    text=text[1:-1]\n",
    "    sentence = \"\"\n",
    "    for word in text.split(', '):\n",
    "        sentence+=voc[int(word)]\n",
    "        sentence+=\" \"\n",
    "    return sentence"
   ]
  },
  {
   "cell_type": "code",
   "execution_count": 8,
   "metadata": {},
   "outputs": [
    {
     "data": {
      "text/plain": [
       "(1000, 2)"
      ]
     },
     "execution_count": 8,
     "metadata": {},
     "output_type": "execute_result"
    }
   ],
   "source": [
    "train = pd.read_csv(train_input,index_col=0,nrows=1000)\n",
    "train.shape\n"
   ]
  },
  {
   "cell_type": "code",
   "execution_count": 9,
   "metadata": {},
   "outputs": [
    {
     "data": {
      "text/plain": [
       "(100, 2)"
      ]
     },
     "execution_count": 9,
     "metadata": {},
     "output_type": "execute_result"
    }
   ],
   "source": [
    "test = pd.read_csv(test_input,index_col=0,nrows=100)\n",
    "test.shape"
   ]
  },
  {
   "cell_type": "code",
   "execution_count": 10,
   "metadata": {},
   "outputs": [],
   "source": [
    "train['topic_name']=train['topic'].apply(topic_to_string)\n",
    "train['text']=train['text'].apply(text_to_string)\n",
    "test['topic_name']=test['topic'].apply(topic_to_string)\n",
    "test['text']=test['text'].apply(text_to_string)"
   ]
  },
  {
   "cell_type": "code",
   "execution_count": 11,
   "metadata": {},
   "outputs": [
    {
     "data": {
      "text/html": [
       "<div>\n",
       "<style scoped>\n",
       "    .dataframe tbody tr th:only-of-type {\n",
       "        vertical-align: middle;\n",
       "    }\n",
       "\n",
       "    .dataframe tbody tr th {\n",
       "        vertical-align: top;\n",
       "    }\n",
       "\n",
       "    .dataframe thead th {\n",
       "        text-align: right;\n",
       "    }\n",
       "</style>\n",
       "<table border=\"1\" class=\"dataframe\">\n",
       "  <thead>\n",
       "    <tr style=\"text-align: right;\">\n",
       "      <th></th>\n",
       "      <th>topic</th>\n",
       "      <th>text</th>\n",
       "      <th>topic_name</th>\n",
       "    </tr>\n",
       "  </thead>\n",
       "  <tbody>\n",
       "    <tr>\n",
       "      <th>5</th>\n",
       "      <td>178</td>\n",
       "      <td>menu them trac ecrit région grand ten club fab...</td>\n",
       "      <td>Fonderie d'autres métaux non ferreux</td>\n",
       "    </tr>\n",
       "    <tr>\n",
       "      <th>14</th>\n",
       "      <td>93</td>\n",
       "      <td>laurent bendavid général logist franc depuis v...</td>\n",
       "      <td>Travaux d'installation d'équipements thermique...</td>\n",
       "    </tr>\n",
       "    <tr>\n",
       "      <th>18</th>\n",
       "      <td>61</td>\n",
       "      <td>part découvr offre marseil justic ordon expuls...</td>\n",
       "      <td>Construction de navires et de structures flott...</td>\n",
       "    </tr>\n",
       "    <tr>\n",
       "      <th>20</th>\n",
       "      <td>648</td>\n",
       "      <td>richardson prend contrôl societ magelec distri...</td>\n",
       "      <td>Conseil en systèmes et logiciels informatiques</td>\n",
       "    </tr>\n",
       "    <tr>\n",
       "      <th>36</th>\n",
       "      <td>11</td>\n",
       "      <td>publi gwénaëll barzic paris reuter vincent bol...</td>\n",
       "      <td>Fabrication de machines pour l'extraction ou l...</td>\n",
       "    </tr>\n",
       "    <tr>\n",
       "      <th>...</th>\n",
       "      <td>...</td>\n",
       "      <td>...</td>\n",
       "      <td>...</td>\n",
       "    </tr>\n",
       "    <tr>\n",
       "      <th>1030</th>\n",
       "      <td>232</td>\n",
       "      <td>résultat opérationnel cour plus haut histor de...</td>\n",
       "      <td>Fonderie d'acier</td>\n",
       "    </tr>\n",
       "    <tr>\n",
       "      <th>1041</th>\n",
       "      <td>105</td>\n",
       "      <td>consulterl journal projet mégacomplex europaci...</td>\n",
       "      <td>Commerce de détail de produits surgelés</td>\n",
       "    </tr>\n",
       "    <tr>\n",
       "      <th>1054</th>\n",
       "      <td>254</td>\n",
       "      <td>restructur financi marqu a finalis mai ikk pas...</td>\n",
       "      <td>Raffinage du pétrole</td>\n",
       "    </tr>\n",
       "    <tr>\n",
       "      <th>1066</th>\n",
       "      <td>346</td>\n",
       "      <td>édit sarth sarth industr cédric menuet septemb...</td>\n",
       "      <td>Autres services d'information n.c.a.</td>\n",
       "    </tr>\n",
       "    <tr>\n",
       "      <th>1067</th>\n",
       "      <td>93</td>\n",
       "      <td>claud leguilloux publi group mvg publ résultat...</td>\n",
       "      <td>Travaux d'installation d'équipements thermique...</td>\n",
       "    </tr>\n",
       "  </tbody>\n",
       "</table>\n",
       "<p>100 rows × 3 columns</p>\n",
       "</div>"
      ],
      "text/plain": [
       "      topic                                               text  \\\n",
       "5       178  menu them trac ecrit région grand ten club fab...   \n",
       "14       93  laurent bendavid général logist franc depuis v...   \n",
       "18       61  part découvr offre marseil justic ordon expuls...   \n",
       "20      648  richardson prend contrôl societ magelec distri...   \n",
       "36       11  publi gwénaëll barzic paris reuter vincent bol...   \n",
       "...     ...                                                ...   \n",
       "1030    232  résultat opérationnel cour plus haut histor de...   \n",
       "1041    105  consulterl journal projet mégacomplex europaci...   \n",
       "1054    254  restructur financi marqu a finalis mai ikk pas...   \n",
       "1066    346  édit sarth sarth industr cédric menuet septemb...   \n",
       "1067     93  claud leguilloux publi group mvg publ résultat...   \n",
       "\n",
       "                                             topic_name  \n",
       "5                  Fonderie d'autres métaux non ferreux  \n",
       "14    Travaux d'installation d'équipements thermique...  \n",
       "18    Construction de navires et de structures flott...  \n",
       "20       Conseil en systèmes et logiciels informatiques  \n",
       "36    Fabrication de machines pour l'extraction ou l...  \n",
       "...                                                 ...  \n",
       "1030                                   Fonderie d'acier  \n",
       "1041            Commerce de détail de produits surgelés  \n",
       "1054                               Raffinage du pétrole  \n",
       "1066               Autres services d'information n.c.a.  \n",
       "1067  Travaux d'installation d'équipements thermique...  \n",
       "\n",
       "[100 rows x 3 columns]"
      ]
     },
     "execution_count": 11,
     "metadata": {},
     "output_type": "execute_result"
    }
   ],
   "source": [
    "test.head(100)"
   ]
  },
  {
   "cell_type": "code",
   "execution_count": 12,
   "metadata": {},
   "outputs": [
    {
     "data": {
      "text/plain": [
       "'laurent guillaum publi novembr villéo logiv fusion don naissanc habel acteur premi plan log social pres log ger bourgogn démarch phas anticip loi elan cibl not consolid tissu organ log social communiqu press group action log depuis début nouveau group action log réform modernis officiel constitu cet réform initi a about instaur deux principal pôl activ pôl servic action log servic pôl immobili action log immobili met oeuvr strateg immobili group cet approch ambiti repos strateg structur réseau filial immobili ambit group dot organis cohérent rationnel efficient lien bassin emploi spécif territoir action log souhait marqu ancrag territorial fort économ social solidair motiv projet fusion villéo logiv deux structur taill similair interven territoir commun ains context réform mouv action log projet loi elan conseil administr deux structur valid position direct général partag part mar cet approch a perm affin réflexion axe possibl développ trajectoir commun cour septembr proposit rapproch a propos deux conseil administr cet proposit a construit autour plusieur idé fort deux structur différent peuvent rapproch ressembl renforc actionnair majoritair commun action log immobili territoir intervent hétérogen complètent recoupent deux entrepris taill équivalent villéo logiv seul entit habel compt octobr fusion deux acteur histor villéo cré logiv cré a valid juin lor assembl général villéo octobr deux societ désorm seul entit habel dont sieg social bas dijon devient bailleur social priv bourgogn pres log ger fêt an existent engag travaill rapproch respect particular object maintien emploi sit absenc mobil forc a tenu transparent franchis dialogu auss respect histoir chacun écout proxim ingrédient pos bas confianc client locatair conservent ains mêm interlocuteur sein agenc clientel situ côt or nievr trois départ où habel implant ambit habel taill signif cet oper premi plan territoir bourguignon devr satisfair attent client locatair acced salari entrepris particip effort collect interlocuteur privilégi aupres collect interven '"
      ]
     },
     "execution_count": 12,
     "metadata": {},
     "output_type": "execute_result"
    }
   ],
   "source": [
    "train.iloc[4,1]\n"
   ]
  },
  {
   "cell_type": "code",
   "execution_count": 13,
   "metadata": {},
   "outputs": [],
   "source": [
    "# Remove missing values (NaN)\n",
    "#train = train[pd.notnull(train['text'])]\n",
    "#train.shape\n",
    "\n",
    "\n",
    "#pd.DataFrame(train.topic.unique()).values\n",
    "\n"
   ]
  },
  {
   "cell_type": "code",
   "execution_count": 14,
   "metadata": {},
   "outputs": [],
   "source": [
    "tfidf = TfidfVectorizer(sublinear_tf=True,\n",
    "                        ngram_range=(1, 2))\n",
    "\n"
   ]
  },
  {
   "cell_type": "code",
   "execution_count": 15,
   "metadata": {},
   "outputs": [],
   "source": [
    "x_train, x_test, y_train, y_test,indices_train,indices_test = train_test_split(tfidf.fit_transform(train.text).toarray(), \n",
    "                                                               train['topic'], \n",
    "                                                               train.index, test_size=0.25, \n",
    "                                                               random_state=1)"
   ]
  },
  {
   "cell_type": "code",
   "execution_count": null,
   "metadata": {},
   "outputs": [],
   "source": []
  },
  {
   "cell_type": "code",
   "execution_count": 23,
   "metadata": {},
   "outputs": [
    {
     "data": {
      "text/plain": [
       "(750,)"
      ]
     },
     "execution_count": 23,
     "metadata": {},
     "output_type": "execute_result"
    }
   ],
   "source": [
    "y_train.shape"
   ]
  },
  {
   "cell_type": "code",
   "execution_count": 17,
   "metadata": {},
   "outputs": [],
   "source": [
    "model = LinearSVC()\n",
    "model.fit(x_train, y_train)\n",
    "y_pred = model.predict(x_test)"
   ]
  },
  {
   "cell_type": "code",
   "execution_count": 31,
   "metadata": {},
   "outputs": [
    {
     "name": "stdout",
     "output_type": "stream",
     "text": [
      "[ 93 444  93  93  93  17  93  93  93  93  93 629  93  93  93 144 483  93\n",
      "  93 586  93  93  93  93 606 230  93  93  93  17  93  93 167 230  52 376\n",
      "  93  11 652 383  93  93  93  93  21  93 650  93  11 230 527  38  93  38\n",
      "  59  93  93  93  93 527 136 337  93  93  93  93 652  93  89  93  93  17\n",
      "  93 199  93  93  93  93  93  93  93 230  11  93  93 230  93 232  38 230\n",
      " 444 141  38  11  89 232 527  93  93  93 527 166 292  93  38  93  93 432\n",
      " 337 343  93  93  93  93  93 153  93 370  93  93  93  93  93  93 230 383\n",
      "  80 167  93 527  93  93  93  93 230 230  93 230 527  93 138 586  93  93\n",
      "  11  87  87  93  90  90 199  93  93 232 505  42 230  38 334 150  93  11\n",
      "  93 464   0  17  93  93  93  93  87  93  93 444  93  93 232 230 527  11\n",
      " 383  93 551 232  38  93  93  93  11 586 527  93  11 232 334  93  93  11\n",
      "  93 622  93 230  93  11  93 230  93 263 528 144  93  93  93  93 527 650\n",
      "  93  93  11 652 109 625  93  11 527 232  42 167  93  87  93 253  93  59\n",
      " 292 464 527  93  93  93 199  93  93  93  93 471 625 230  93  93]\n",
      "561    404\n",
      "907    444\n",
      "501    446\n",
      "411    263\n",
      "270    602\n",
      "      ... \n",
      "429    303\n",
      "982    625\n",
      "487    370\n",
      "149    400\n",
      "627    361\n",
      "Name: topic, Length: 250, dtype: int64\n",
      "\t\t\t\tCLASSIFICATIION METRICS\n",
      "\n"
     ]
    },
    {
     "ename": "ValueError",
     "evalue": "Number of classes, 151, does not match size of target_names, 281. Try specifying the labels parameter",
     "output_type": "error",
     "traceback": [
      "\u001b[0;31m---------------------------------------------------------------------------\u001b[0m",
      "\u001b[0;31mValueError\u001b[0m                                Traceback (most recent call last)",
      "\u001b[0;32m<ipython-input-31-5fed17367df6>\u001b[0m in \u001b[0;36m<module>\u001b[0;34m\u001b[0m\n\u001b[1;32m      4\u001b[0m \u001b[0mprint\u001b[0m\u001b[0;34m(\u001b[0m\u001b[0;34m'\\t\\t\\t\\tCLASSIFICATIION METRICS\\n'\u001b[0m\u001b[0;34m)\u001b[0m\u001b[0;34m\u001b[0m\u001b[0;34m\u001b[0m\u001b[0m\n\u001b[1;32m      5\u001b[0m print(metrics.classification_report(y_test, y_pred, \n\u001b[0;32m----> 6\u001b[0;31m                                     target_names= train['topic_name'].unique()))\n\u001b[0m",
      "\u001b[0;32m~/anaconda3/lib/python3.7/site-packages/sklearn/metrics/classification.py\u001b[0m in \u001b[0;36mclassification_report\u001b[0;34m(y_true, y_pred, labels, target_names, sample_weight, digits, output_dict)\u001b[0m\n\u001b[1;32m   1874\u001b[0m                 \u001b[0;34m\"Number of classes, {0}, does not match size of \"\u001b[0m\u001b[0;34m\u001b[0m\u001b[0;34m\u001b[0m\u001b[0m\n\u001b[1;32m   1875\u001b[0m                 \u001b[0;34m\"target_names, {1}. Try specifying the labels \"\u001b[0m\u001b[0;34m\u001b[0m\u001b[0;34m\u001b[0m\u001b[0m\n\u001b[0;32m-> 1876\u001b[0;31m                 \u001b[0;34m\"parameter\"\u001b[0m\u001b[0;34m.\u001b[0m\u001b[0mformat\u001b[0m\u001b[0;34m(\u001b[0m\u001b[0mlen\u001b[0m\u001b[0;34m(\u001b[0m\u001b[0mlabels\u001b[0m\u001b[0;34m)\u001b[0m\u001b[0;34m,\u001b[0m \u001b[0mlen\u001b[0m\u001b[0;34m(\u001b[0m\u001b[0mtarget_names\u001b[0m\u001b[0;34m)\u001b[0m\u001b[0;34m)\u001b[0m\u001b[0;34m\u001b[0m\u001b[0;34m\u001b[0m\u001b[0m\n\u001b[0m\u001b[1;32m   1877\u001b[0m             )\n\u001b[1;32m   1878\u001b[0m     \u001b[0;32mif\u001b[0m \u001b[0mtarget_names\u001b[0m \u001b[0;32mis\u001b[0m \u001b[0;32mNone\u001b[0m\u001b[0;34m:\u001b[0m\u001b[0;34m\u001b[0m\u001b[0;34m\u001b[0m\u001b[0m\n",
      "\u001b[0;31mValueError\u001b[0m: Number of classes, 151, does not match size of target_names, 281. Try specifying the labels parameter"
     ]
    }
   ],
   "source": [
    "print(y_pred)\n",
    "print(y_test)\n",
    "# Classification report\n",
    "print('\\t\\t\\t\\tCLASSIFICATIION METRICS\\n')\n",
    "print(metrics.classification_report(y_test, y_pred, \n",
    "                                    target_names= train['topic_name'].unique()))\n"
   ]
  },
  {
   "cell_type": "code",
   "execution_count": null,
   "metadata": {},
   "outputs": [],
   "source": []
  }
 ],
 "metadata": {
  "kernelspec": {
   "display_name": "Python 3",
   "language": "python",
   "name": "python3"
  },
  "language_info": {
   "codemirror_mode": {
    "name": "ipython",
    "version": 3
   },
   "file_extension": ".py",
   "mimetype": "text/x-python",
   "name": "python",
   "nbconvert_exporter": "python",
   "pygments_lexer": "ipython3",
   "version": "3.7.4"
  }
 },
 "nbformat": 4,
 "nbformat_minor": 4
}
